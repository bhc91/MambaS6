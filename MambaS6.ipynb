{
 "cells": [
  {
   "cell_type": "code",
   "execution_count": 73,
   "id": "85c814f8-ddb0-4f05-a47d-1d9e8938cf5e",
   "metadata": {},
   "outputs": [],
   "source": [
    "import torch\n",
    "import torch.nn.functional as F\n",
    "import numpy as np\n",
    "import torch.nn as nn\n",
    "import torch.optim as optim\n",
    "import matplotlib.pyplot as plt"
   ]
  },
  {
   "cell_type": "code",
   "execution_count": 88,
   "id": "f8e8e0cf-98f4-48d6-8527-bf1db982ac3a",
   "metadata": {},
   "outputs": [],
   "source": [
    "class Mamba(nn.Module):\n",
    "    def __init__(self, B, L, D, N):\n",
    "        super().__init__()\n",
    "        self.B = B # Batch size\n",
    "        self.L = L # Sequence length\n",
    "        self.D = D # Model dimension\n",
    "        self.N = N # State size\n",
    "        \n",
    "        self.W_d = nn.Parameter(torch.randn(D, D))\n",
    "        self.b_d = nn.Parameter(torch.zeros(D))\n",
    "        self.W_b = nn.Parameter(torch.randn(D, 2*N))\n",
    "        self.W_c = nn.Parameter(torch.randn(D, 2*D))\n",
    "        self.A = nn.Parameter(torch.randn(D, N))\n",
    "        self.W_out = nn.Parameter(torch.randn(N, D))\n",
    "        self.layer_norm = nn.LayerNorm(D)\n",
    "\n",
    "    def delta_proj(self, x):\n",
    "        return F.softplus(x @ self.W_d + self.b_d)\n",
    "\n",
    "    def B_proj(self, x):\n",
    "        return x @ self.W_b\n",
    "\n",
    "    def C_proj(self, x):\n",
    "        return x @ self.W_c\n",
    "\n",
    "    def state_space_param(self, delta):\n",
    "        return (1 - torch.exp(-delta)).unsqueeze(-1) * self.A\n",
    "\n",
    "    def selective_scan(self, B, A_bar):\n",
    "        batch_size, seq_len, _ = B.shape\n",
    "        h_list = []\n",
    "        h_prev = torch.zeros(batch_size, self.N, device=B.device)\n",
    "        for l in range(seq_len):\n",
    "            u = torch.sigmoid(B[:, l, :self.N])\n",
    "            v = B[:, l, self.N:]\n",
    "            h_l = u * (A_bar[:, l] @ h_prev.unsqueeze(-1)).squeeze(-1) + v\n",
    "            h_list.append(h_l)\n",
    "            h_prev = h_l\n",
    "        return torch.stack(h_list, dim=1)\n",
    "\n",
    "    def forward(self, x):\n",
    "        B, L, D = x.shape\n",
    "        assert B == self.B, f\"Input batch size ({B}) doesn't match model batch size ({self.B})\"\n",
    "        assert L == self.L, f\"Input sequence length ({L}) doesn't match model sequence length ({self.L})\"\n",
    "        assert D == self.D, f\"Input dimension D ({D}) doesn't match model dimension ({self.D})\"\n",
    "        \n",
    "        \n",
    "        delta = self.delta_proj(x)\n",
    "        B = self.B_proj(x)\n",
    "        C = self.C_proj(x)\n",
    "        \n",
    "        A_bar = self.state_space_param(delta)\n",
    "        \n",
    "        h = self.selective_scan(B, A_bar)\n",
    "        \n",
    "        y = h @ self.W_out\n",
    "        \n",
    "        y = y * torch.sigmoid(C[:, :, :self.D]) + x * torch.sigmoid(C[:, :, self.D:])\n",
    "        \n",
    "        y = self.layer_norm(y)\n",
    "        \n",
    "        return y"
   ]
  },
  {
   "cell_type": "code",
   "execution_count": 89,
   "id": "f7a4345e-6690-4662-88f1-25fdfbbbf49e",
   "metadata": {},
   "outputs": [],
   "source": [
    "batch_size = 1\n",
    "sequence_len = 6\n",
    "model_dim = 4\n",
    "state_size = 4\n",
    "\n",
    "model = Mamba(B=batch_size, L=sequence_len, D=model_dim, N=state_size)\n",
    "\n",
    "criterion = nn.MSELoss()\n",
    "\n",
    "optimizer = optim.Adam(model.parameters(), lr=0.001)\n",
    "\n",
    "# sample input data\n",
    "x = torch.tensor([[\n",
    "    [1.0, 2.0, 3.0, 4.0],\n",
    "    [5.0, 6.0, 7.0, 8.0],\n",
    "    [9.0, 10.0, 11.0, 12.0],\n",
    "    [13.0, 14.0, 15.0, 16.0],\n",
    "    [17.0, 18.0, 19.0, 20.0],\n",
    "    [21.0, 22.0, 23.0, 24.0]\n",
    "]], dtype=torch.float32, requires_grad=True)\n",
    "\n",
    "# sample target\n",
    "target = torch.randn(1, 6, 4) "
   ]
  },
  {
   "cell_type": "code",
   "execution_count": 90,
   "id": "7f4b76e8-b218-4655-af02-d8b78f22509f",
   "metadata": {},
   "outputs": [
    {
     "name": "stdout",
     "output_type": "stream",
     "text": [
      "Epoch [1000/10000], Loss: 0.2624\n",
      "Epoch [2000/10000], Loss: 0.1936\n",
      "Epoch [3000/10000], Loss: 0.1848\n",
      "Epoch [4000/10000], Loss: 0.1827\n",
      "Epoch [5000/10000], Loss: 0.1822\n",
      "Epoch [6000/10000], Loss: 0.1821\n",
      "Epoch [7000/10000], Loss: 0.1820\n",
      "Epoch [8000/10000], Loss: 0.1853\n",
      "Epoch [9000/10000], Loss: 0.1818\n",
      "Epoch [10000/10000], Loss: 0.1819\n"
     ]
    }
   ],
   "source": [
    "epochs = 10000\n",
    "losses = []\n",
    "\n",
    "for epoch in range(epochs): \n",
    "    # Zero the parameter gradients\n",
    "    optimizer.zero_grad()\n",
    "\n",
    "    output = model(x)\n",
    "\n",
    "    loss = criterion(output, target)\n",
    "\n",
    "    loss.backward()\n",
    "\n",
    "    optimizer.step()\n",
    "\n",
    "    losses.append(loss.item())\n",
    "\n",
    "    if (epoch + 1) % 1000 == 0:\n",
    "        print(f'Epoch [{epoch+1}/{epochs}], Loss: {loss.item():.4f}')"
   ]
  },
  {
   "cell_type": "code",
   "execution_count": 91,
   "id": "0b0c400d-7a36-4f7a-adf9-170a26651579",
   "metadata": {},
   "outputs": [
    {
     "name": "stdout",
     "output_type": "stream",
     "text": [
      "Final output:\n",
      "tensor([[[ 0.7392, -0.6391,  0.3041,  0.5281],\n",
      "         [-0.0544, -0.9829,  0.1728, -0.5722],\n",
      "         [-0.5351,  0.5162,  0.2978,  0.5433],\n",
      "         [-0.6365,  1.0048,  0.2551,  0.5894],\n",
      "         [ 0.2350,  1.6509, -0.0564,  0.0706],\n",
      "         [ 1.3268,  0.1314, -0.0919, -0.4022]]])\n"
     ]
    }
   ],
   "source": [
    "with torch.no_grad():\n",
    "    final_output = model(x)\n",
    "    print(\"Final output:\")\n",
    "    print(final_output)"
   ]
  },
  {
   "cell_type": "code",
   "execution_count": 92,
   "id": "e8231745-12f3-460a-993e-dfede9be8760",
   "metadata": {},
   "outputs": [
    {
     "data": {
      "image/png": "[encoded data removed]",
      "text/plain": [
       "<Figure size 1000x500 with 1 Axes>"
      ]
     },
     "metadata": {},
     "output_type": "display_data"
    }
   ],
   "source": [
    "plt.figure(figsize=(10, 5))\n",
    "plt.plot(losses)\n",
    "plt.title('Training Loss Over Epochs')\n",
    "plt.xlabel('Epoch')\n",
    "plt.ylabel('Loss')\n",
    "plt.grid(True)\n",
    "plt.show()"
   ]
  }
 ],
 "metadata": {
  "kernelspec": {
   "display_name": "cuda-gpt",
   "language": "python",
   "name": "cuda"
  },
  "language_info": {
   "codemirror_mode": {
    "name": "ipython",
    "version": 3
   },
   "file_extension": ".py",
   "mimetype": "text/x-python",
   "name": "python",
   "nbconvert_exporter": "python",
   "pygments_lexer": "ipython3",
   "version": "3.11.7"
  }
 },
 "nbformat": 4,
 "nbformat_minor": 5
}
